{
  "cells": [
    {
      "cell_type": "code",
      "execution_count": null,
      "metadata": {
        "id": "yKFRdi4BgDvP"
      },
      "outputs": [],
      "source": [
        "# !pip install -q selenium\n",
        "# !pip install requests"
      ]
    },
    {
      "cell_type": "code",
      "execution_count": null,
      "metadata": {
        "id": "aXVEBiDegs2Y"
      },
      "outputs": [],
      "source": [
        "# !apt-get update\n",
        "# !apt install chromium-chromedriver\n",
        "# !cp /usr/lib/chromium-browser/chromedriver /usr/bin\n",
        "# !pip install -q selenium"
      ]
    },
    {
      "cell_type": "code",
      "execution_count": null,
      "metadata": {
        "id": "ryt9T5Bxg20f"
      },
      "outputs": [],
      "source": [
        "from selenium import webdriver\n",
        "from selenium.webdriver.chrome.options import Options\n",
        "from bs4 import BeautifulSoup\n",
        "import time\n",
        "from selenium.webdriver.common.action_chains import ActionChains\n",
        "import requests\n",
        "import pandas as pd\n",
        "from selenium import webdriver\n",
        "from selenium.webdriver.chrome.options import Options\n",
        "from selenium.webdriver.common.by import By\n",
        "from selenium.webdriver.support.ui import WebDriverWait\n",
        "from selenium.webdriver.support import expected_conditions as EC\n",
        "from selenium.webdriver.support.ui import Select\n",
        "from selenium.common.exceptions import NoSuchElementException, TimeoutException\n",
        "import re\n",
        "from selenium.common.exceptions import (\n",
        "    TimeoutException,\n",
        "    NoSuchElementException,\n",
        "    ElementClickInterceptedException,\n",
        ")\n",
        "\n",
        "def setup_driver():\n",
        "  chrome_options = Options()\n",
        "  chrome_options.add_argument('--headless')\n",
        "  chrome_options.add_argument('--no-sandbox')\n",
        "  chrome_options.add_argument('--disable-dev-shm-usage')\n",
        "  return webdriver.Chrome(options=chrome_options)"
      ]
    },
    {
      "cell_type": "code",
      "execution_count": null,
      "metadata": {
        "id": "e0K2oO7zhD0J"
      },
      "outputs": [],
      "source": [
        "driver=setup_driver()"
      ]
    },
    {
      "cell_type": "code",
      "execution_count": null,
      "metadata": {
        "id": "ViZ8o5zhaUQf"
      },
      "outputs": [],
      "source": [
        "base_url = \"https://housing.com/in/buy/pune/baner?page={}\"\n",
        "all_urls = []\n",
        "\n",
        "for page_num in range(1, 3):\n",
        "    url = base_url.format(page_num)\n",
        "    all_urls.append(url)"
      ]
    },
    {
      "cell_type": "code",
      "execution_count": null,
      "metadata": {
        "colab": {
          "base_uri": "https://localhost:8080/",
          "height": 35
        },
        "id": "-n6XumkSaaQn",
        "outputId": "260a30b9-7ee0-4160-ae88-a80c695ac225"
      },
      "outputs": [
        {
          "data": {
            "application/vnd.google.colaboratory.intrinsic+json": {
              "type": "string"
            },
            "text/plain": [
              "'https://housing.com/in/buy/pune/baner?page=1'"
            ]
          },
          "execution_count": 158,
          "metadata": {},
          "output_type": "execute_result"
        }
      ],
      "source": [
        "url=all_urls[0]"
      ]
    },
    {
      "cell_type": "code",
      "execution_count": null,
      "metadata": {
        "id": "aCQ9S1y-a8do"
      },
      "outputs": [],
      "source": [
        "driver.get(url)"
      ]
    },
    {
      "cell_type": "code",
      "execution_count": null,
      "metadata": {
        "id": "MkteWE0am1pH"
      },
      "outputs": [],
      "source": [
        "# driver.save_screenshot('screenshot.png')"
      ]
    },
    {
      "cell_type": "code",
      "execution_count": null,
      "metadata": {
        "colab": {
          "base_uri": "https://localhost:8080/"
        },
        "id": "AcVyp4f5k5iy",
        "outputId": "5fcf1f5c-0748-4194-c608-6bcc68f3d947"
      },
      "outputs": [
        {
          "name": "stdout",
          "output_type": "stream",
          "text": [
            "1\n"
          ]
        }
      ],
      "source": [
        "wait = WebDriverWait(driver, 10)\n",
        "# elements = wait.until(EC.presence_of_all_elements_located((By.CLASS_NAME, \"_9s1txw\")))\n",
        "elements=driver.find_elements(By.CLASS_NAME, \"css-1m1bruh\")\n",
        "print(len(elements))"
      ]
    },
    {
      "cell_type": "code",
      "execution_count": null,
      "metadata": {
        "id": "hY0qm6RswI4n"
      },
      "outputs": [],
      "source": [
        "      src_attribute = []\n",
        "      for element in elements:\n",
        "          anchor_tags = element.find_elements(By.TAG_NAME, \"a\")\n",
        "          for tag in anchor_tags:\n",
        "              data_q_attribute = tag.get_attribute(\"data-q\")\n",
        "              if data_q_attribute == \"title\":\n",
        "                  src = tag.get_attribute(\"href\")\n",
        "                  if src and src not in src_attribute:\n",
        "                    src_attribute.append(src) # Append to the list  # Get the 'href' attribute\n",
        "\n",
        "      print(len(src_attribute))"
      ]
    },
    {
      "cell_type": "code",
      "execution_count": null,
      "metadata": {
        "id": "XoEos-1FHzk7"
      },
      "outputs": [],
      "source": [
        "\n",
        "for data1 in src_attribute:\n",
        "    driver.get(data1)\n",
        "    driver.maximize_window()\n",
        "\n",
        "    # Wait for gallery divs to load\n",
        "    gallery_divs = wait.until(EC.presence_of_all_elements_located((By.XPATH, \"//div[@data-q='gallery']\")))\n",
        "    print(f\"Number of gallery divs: {len(gallery_divs)}\")\n",
        "\n",
        "    src_attributes = []\n",
        "    for div in gallery_divs:\n",
        "        try:\n",
        "            img_tags = div.find_elements(By.XPATH, './/img[@fetchpriority=\"auto\"]')\n",
        "            for img_tag in img_tags:\n",
        "                src = img_tag.get_attribute(\"src\")\n",
        "                if src and src not in src_attributes:\n",
        "                    src_attributes.append(src)\n",
        "        except Exception as e:\n",
        "            print(f\"Error processing div or img tag: {e}\")\n",
        "\n",
        "    print(f\"Number of unique image sources: {len(src_attributes)}\")\n",
        "    print(f\"List of images: {src_attributes}\")\n",
        "\n",
        "    # Extract building name\n",
        "    h1_tags = driver.find_elements(By.XPATH, \"//h1[@class='css-1hidc9c']\")\n",
        "    for h1_tag in h1_tags:\n",
        "        try:\n",
        "            print(f\"Building name: {h1_tag.text}\")\n",
        "        except Exception as e:\n",
        "            print(f\"Error extracting text from h1 tag: {e}\")\n",
        "\n",
        "    # Extract address\n",
        "    try:\n",
        "        address_div = driver.find_element(By.XPATH, \"//div[@data-q='address']\")\n",
        "        print(f\"Address: {address_div.text}\")\n",
        "    except Exception as e:\n",
        "        print(f\"Error extracting address: {e}\")\n",
        "\n",
        "    # Extract basic price\n",
        "    spans = driver.find_elements(By.CSS_SELECTOR, \"span.css-19rl1ms\")\n",
        "    for span in spans:\n",
        "        try:\n",
        "            print(f\"Basic price: {span.text}\")\n",
        "        except Exception as e:\n",
        "            print(f\"Error extracting basic price: {e}\")\n",
        "\n",
        "    # Extract price per sqft\n",
        "    sqft_spans = driver.find_elements(By.CSS_SELECTOR, \"span.css-124qey8\")\n",
        "    for span in sqft_spans:\n",
        "        try:\n",
        "            print(f\"Price per sqft: {span.text}\")\n",
        "        except Exception as e:\n",
        "            print(f\"Error extracting price per sqft: {e}\")\n",
        "\n",
        "    # Extract other information\n",
        "    class_names = [\n",
        "        \"css-13dph6\", \"T_804fd309\", \"css-1cv4ydj\",\n",
        "        \"css-1ruxp1v\", \"css-a9s06j\", \"_vydw1wug\", \"_lo1tcg\"\n",
        "    ]\n",
        "    for class_name in class_names:\n",
        "        try:\n",
        "            target_div = wait.until(EC.presence_of_element_located((By.CLASS_NAME, class_name)))\n",
        "            print(f\"Content for {class_name}: {target_div.text}\")\n",
        "        except Exception as e:\n",
        "            print(f\"Error extracting content for {class_name}: {e}\")\n",
        "\n",
        "driver.quit()\n"
      ]
    },
    {
      "cell_type": "code",
      "execution_count": null,
      "metadata": {
        "id": "OoXO0BHM1ZPp"
      },
      "outputs": [],
      "source": [
        "data1=src_attribute[10]\n",
        "print(data1)"
      ]
    },
    {
      "cell_type": "code",
      "execution_count": null,
      "metadata": {
        "id": "xuBCJYcKBe72"
      },
      "outputs": [],
      "source": [
        "driver.get(data1)"
      ]
    },
    {
      "cell_type": "code",
      "execution_count": null,
      "metadata": {
        "id": "KfP33MpxFf6q"
      },
      "outputs": [],
      "source": [
        "driver.maximize_window()\n",
        "driver.save_screenshot('screenshot1.png')"
      ]
    },
    {
      "cell_type": "code",
      "execution_count": null,
      "metadata": {
        "id": "Fmyt4bhuFkYb"
      },
      "outputs": [],
      "source": [
        "# wait = WebDriverWait(driver, 10)\n",
        "# element1 = wait.until(EC.presence_of_all_elements_located((By.CLASS_NAME, \"_e21osq _tnsg1mjv _yz151l7l _191g6es9 T_4ad9dae1\")))\n",
        "# print(len(element1))\n",
        "# wait = WebDriverWait(driver, 10)\n",
        "# element1 = wait.until(EC.presence_of_all_elements_located(\n",
        "#     (By.CSS_SELECTOR, \"._e21osq._tnsg1mjv._yz151l7l._191g6es9.T_4ad9dae1\")\n",
        "# ))\n",
        "# print(len(element1))\n",
        "# Wait for elements with data-q=\"gallery\"\n",
        "wait = WebDriverWait(driver, 10)\n",
        "gallery_divs = wait.until(EC.presence_of_all_elements_located((By.XPATH, \"//div[@data-q='gallery']\")))\n",
        "\n",
        "print(f\"Number of gallery divs: {len(gallery_divs)}\")\n",
        "\n"
      ]
    },
    {
      "cell_type": "code",
      "execution_count": null,
      "metadata": {
        "id": "P4h2ZTMvGA7A"
      },
      "outputs": [],
      "source": [
        "src_attributes = []\n",
        "\n",
        "for div in gallery_divs:\n",
        "    try:\n",
        "        # Find all <img> tags within the current <div> that have fetchpriority=\"auto\"\n",
        "        img_tags = div.find_elements(By.XPATH, './/img[@fetchpriority=\"auto\"]')\n",
        "        driver.save_screenshot('screenshot3.png')\n",
        "        for img_tag in img_tags:\n",
        "            src = img_tag.get_attribute(\"src\")  # Get the src attribute of each <img> tag\n",
        "            driver.save_screenshot('screenshot4.png')\n",
        "            if src and src not in src_attributes:  # Ensure src is not empty and unique\n",
        "                src_attributes.append(src)\n",
        "    except Exception as e:\n",
        "        print(f\"Error processing div or img tag: {e}\")\n",
        "\n",
        "# Print the collected src attributes\n",
        "print(f\"Number of unique image sources: {len(src_attributes)}\")\n",
        "print(f\"list of images:{src_attributes}\")\n"
      ]
    },
    {
      "cell_type": "code",
      "execution_count": null,
      "metadata": {
        "id": "CG6vPlbMdntx"
      },
      "outputs": [],
      "source": [
        "\n",
        "h1_tags = driver.find_elements(By.XPATH, \"//h1[@class='css-1hidc9c']\")\n",
        "\n",
        "# Extract and print the text content of each h1 tag\n",
        "for h1_tag in h1_tags:\n",
        "    try:\n",
        "        h1_text = h1_tag.text\n",
        "        print(f\"building name: {h1_text}\")\n",
        "    except Exception as e:\n",
        "        print(f\"Error extracting text from h1 tag: {e}\")"
      ]
    },
    {
      "cell_type": "code",
      "execution_count": null,
      "metadata": {
        "id": "lSjMZO5XelqH"
      },
      "outputs": [],
      "source": [
        "address_div = driver.find_element(By.XPATH, \"//div[@data-q='address']\")\n",
        "address_text = address_div.text\n",
        "print(f\"Address: {address_text}\")"
      ]
    },
    {
      "cell_type": "code",
      "execution_count": null,
      "metadata": {
        "id": "fvnvF6oAfWSw"
      },
      "outputs": [],
      "source": [
        "# prompt: span have class class=\"css-19rl1ms\" get text\n",
        "\n",
        "spans = driver.find_elements(By.CSS_SELECTOR, \"span.css-19rl1ms\")\n",
        "for span in spans:\n",
        "    try:\n",
        "        span_text = span.text\n",
        "        print(f\"basic price: {span_text}\")\n",
        "    except Exception as e:\n",
        "        print(f\"Error extracting text from span: {e}\")"
      ]
    },
    {
      "cell_type": "code",
      "execution_count": null,
      "metadata": {
        "id": "rdCyWATdfr6s"
      },
      "outputs": [],
      "source": [
        "# prompt: also span have class=\"css-124qey8\" get text\n",
        "\n",
        "sqft = driver.find_elements(By.CSS_SELECTOR, \"span.css-124qey8\")\n",
        "for sq in sqft:\n",
        "    try:\n",
        "        span_text = sq.text\n",
        "        print(f\"price in per sqft: {span_text}\")\n",
        "    except Exception as e:\n",
        "        print(f\"Error extracting text from span: {e}\")"
      ]
    },
    {
      "cell_type": "code",
      "execution_count": null,
      "metadata": {
        "id": "Uy8dsNSDgFY9"
      },
      "outputs": [],
      "source": [
        "# prompt: have a section have a class=\"css-13dph6\" using get all text\n",
        "\n",
        "from selenium.webdriver.common.by import By\n",
        "\n",
        "elements = driver.find_elements(By.CLASS_NAME, \"css-13dph6\")\n",
        "\n",
        "# Extract and print the text content of each element\n",
        "for element in elements:\n",
        "    try:\n",
        "        element_text = element.text\n",
        "        print(element_text)\n",
        "    except Exception as e:\n",
        "        print(f\"Error extracting text: {e}\")"
      ]
    },
    {
      "cell_type": "code",
      "execution_count": null,
      "metadata": {
        "id": "-MYxOcl0l2OK"
      },
      "outputs": [],
      "source": [
        "try:\n",
        "    target_div = WebDriverWait(driver, 10).until(\n",
        "        EC.presence_of_element_located((By.CLASS_NAME, \"T_804fd309\"))\n",
        "    )\n",
        "\n",
        "    # Extract all text content within the div\n",
        "    div_text = target_div.text\n",
        "    print(f\"More about this : {div_text}\")\n",
        "\n",
        "except Exception as e:\n",
        "    print(f\"An error occurred: {e}\")"
      ]
    },
    {
      "cell_type": "code",
      "execution_count": null,
      "metadata": {
        "id": "03swsbygmfZx"
      },
      "outputs": [],
      "source": [
        "\n",
        "try:\n",
        "    # Wait for the target div to load\n",
        "    target_div = WebDriverWait(driver, 10).until(\n",
        "        EC.presence_of_element_located((By.CLASS_NAME, \"css-1cv4ydj\"))\n",
        "    )\n",
        "\n",
        "    # Get the inner HTML of the div\n",
        "    div_html = target_div.get_attribute(\"innerHTML\")\n",
        "\n",
        "    # Parse the HTML content using BeautifulSoup\n",
        "    soup = BeautifulSoup(div_html, 'html.parser')\n",
        "\n",
        "    # Extract all text within the div\n",
        "    all_text = soup.get_text(separator=\" \", strip=True)\n",
        "    print(f\"All text within the div: {all_text}\")\n",
        "\n",
        "    # Find all img tags with class \"img css-15aih43\"\n",
        "    img_tags = soup.find_all(\"img\", class_=\"img css-15aih43\")\n",
        "\n",
        "    # Extract and print the src attribute of each img tag\n",
        "    for img_tag in img_tags:\n",
        "      src = img_tag.get(\"src\")\n",
        "      if src:\n",
        "        print(f\"Image source: {src}\")\n",
        "\n",
        "except Exception as e:\n",
        "    print(f\"An error occurred: {e}\")\n",
        "\n",
        "# ... (Rest of your code)"
      ]
    },
    {
      "cell_type": "code",
      "execution_count": null,
      "metadata": {
        "id": "bplJTqTxvfKj"
      },
      "outputs": [],
      "source": [
        "# prict and flore plan\n",
        "\n",
        "try:\n",
        "    # Wait for the target div to load\n",
        "    target_div = WebDriverWait(driver, 10).until(\n",
        "        EC.presence_of_element_located((By.CLASS_NAME, \"css-1ruxp1v\"))\n",
        "    )\n",
        "\n",
        "    # Extract all text content within the div\n",
        "    div_text = target_div.text\n",
        "    print(div_text)\n",
        "\n",
        "except Exception as e:\n",
        "    print(f\"An error occurred: {e}\")"
      ]
    },
    {
      "cell_type": "code",
      "execution_count": null,
      "metadata": {
        "id": "HTxZqrxbl1Iq"
      },
      "outputs": [],
      "source": [
        "#project amenities\n",
        "\n",
        "try:\n",
        "    # Wait for the target div to load\n",
        "    target_div = WebDriverWait(driver, 10).until(\n",
        "        EC.presence_of_element_located((By.CLASS_NAME, \"css-a9s06j\"))\n",
        "    )\n",
        "\n",
        "    # Extract all text content within the div\n",
        "    div_text = target_div.text\n",
        "    print(div_text)\n",
        "\n",
        "except Exception as e:\n",
        "    print(f\"An error occurred: {e}\")"
      ]
    },
    {
      "cell_type": "code",
      "execution_count": null,
      "metadata": {
        "id": "9l2DqWkuoWFH"
      },
      "outputs": [],
      "source": [
        "try:\n",
        "    # Wait for the target div to load\n",
        "    target_div = WebDriverWait(driver, 10).until(\n",
        "        EC.presence_of_element_located((By.CLASS_NAME, \"_vydw1wug\"))\n",
        "    )\n",
        "\n",
        "    # Extract all text content within the div\n",
        "    div_text = target_div.text\n",
        "    print(div_text)\n",
        "\n",
        "except Exception as e:\n",
        "    print(f\"An error occurred: {e}\")"
      ]
    },
    {
      "cell_type": "code",
      "execution_count": null,
      "metadata": {
        "id": "f2G55jzHpV5J"
      },
      "outputs": [],
      "source": [
        "# prompt: have div class class=\"_lo1tcg _2d1pec T_2b3daac1\"  get all the text in the div\n",
        "\n",
        "from selenium.webdriver.common.by import By\n",
        "\n",
        "try:\n",
        "    # Wait for the target div to load\n",
        "    target_div = WebDriverWait(driver, 10).until(\n",
        "        EC.presence_of_element_located((By.CLASS_NAME, \"_lo1tcg\"))\n",
        "    )\n",
        "\n",
        "    # Extract all text content within the div\n",
        "    div_text = target_div.text\n",
        "    print(div_text)\n",
        "\n",
        "except Exception as e:\n",
        "    print(f\"An error occurred: {e}\")"
      ]
    },
    {
      "cell_type": "markdown",
      "metadata": {
        "id": "uk4KCVAVfIRC"
      },
      "source": [
        "testing for indivisual"
      ]
    },
    {
      "cell_type": "code",
      "execution_count": null,
      "metadata": {
        "id": "294-eqIJdjNU"
      },
      "outputs": [],
      "source": [
        "from selenium import webdriver\n",
        "from selenium.webdriver.chrome.options import Options\n",
        "from bs4 import BeautifulSoup\n",
        "import time\n",
        "from selenium.webdriver.common.action_chains import ActionChains\n",
        "from selenium.webdriver.common.by import By\n",
        "from selenium.webdriver.support.ui import WebDriverWait\n",
        "from selenium.webdriver.support import expected_conditions as EC\n",
        "from selenium.common.exceptions import (\n",
        "    NoSuchElementException,\n",
        "    TimeoutException,\n",
        "    ElementClickInterceptedException\n",
        ")\n",
        "\n",
        "def setup_driver():\n",
        "    chrome_options = Options()\n",
        "    chrome_options.add_argument('--headless')\n",
        "    chrome_options.add_argument('--no-sandbox')\n",
        "    chrome_options.add_argument('--disable-dev-shm-usage')\n",
        "    return webdriver.Chrome(options=chrome_options)\n"
      ]
    },
    {
      "cell_type": "code",
      "execution_count": null,
      "metadata": {
        "id": "dVySIYP5eRJB"
      },
      "outputs": [],
      "source": [
        "driver = setup_driver()\n",
        "\n",
        "base_url = \"https://housing.com/in/buy/pune/baner?page={}\"\n",
        "all_urls = []\n",
        "\n",
        "for page_num in range(1, 3):\n",
        "    url = base_url.format(page_num)\n",
        "    all_urls.append(url)\n"
      ]
    },
    {
      "cell_type": "code",
      "execution_count": null,
      "metadata": {
        "id": "May1ZSZKf7ZB"
      },
      "outputs": [],
      "source": [
        "# # for url in all_urls:\n",
        "# url=all_urls[0]\n",
        "# driver.get(url)\n",
        "# wait = WebDriverWait(driver, 10)\n",
        "# elements = wait.until(EC.presence_of_all_elements_located((By.CLASS_NAME, \"_9s1txw\")))\n",
        "# print(len(elements))"
      ]
    },
    {
      "cell_type": "code",
      "execution_count": null,
      "metadata": {
        "id": "kCmZKUOogK1s"
      },
      "outputs": [],
      "source": [
        "# src_attribute = []\n",
        "# for element in elements:\n",
        "#   anchor_tags = element.find_elements(By.TAG_NAME, \"a\")\n",
        "#   for tag in anchor_tags:\n",
        "#     data_q_attribute = tag.get_attribute(\"data-q\")\n",
        "#     if data_q_attribute == \"title\":\n",
        "#       src = tag.get_attribute(\"href\")\n",
        "#       if src and src not in src_attribute:\n",
        "#         src_attribute.append(src) # Append to the list  # Get the 'href' attribute\n",
        "\n",
        "# print(len(src_attribute))"
      ]
    },
    {
      "cell_type": "code",
      "execution_count": null,
      "metadata": {
        "id": "qt8TfKF-fdfy"
      },
      "outputs": [],
      "source": []
    },
    {
      "cell_type": "code",
      "execution_count": null,
      "metadata": {
        "id": "TMkvdQX4fhFJ"
      },
      "outputs": [],
      "source": [
        "# from selenium import webdriver\n",
        "# from selenium.webdriver.chrome.options import Options\n",
        "# from bs4 import BeautifulSoup\n",
        "# import time\n",
        "# from selenium.webdriver.common.action_chains import ActionChains\n",
        "# from selenium.webdriver.common.by import By\n",
        "# from selenium.webdriver.support.ui import WebDriverWait\n",
        "# from selenium.webdriver.support import expected_conditions as EC\n",
        "# from selenium.common.exceptions import (\n",
        "#     NoSuchElementException,\n",
        "#     TimeoutException,\n",
        "#     ElementClickInterceptedException\n",
        "# )\n",
        "\n",
        "# def setup_driver():\n",
        "#     chrome_options = Options()\n",
        "#     chrome_options.add_argument('--headless')\n",
        "#     chrome_options.add_argument('--no-sandbox')\n",
        "#     chrome_options.add_argument('--disable-dev-shm-usage')\n",
        "#     return webdriver.Chrome(options=chrome_options)\n",
        "\n",
        "# # Setup the WebDriver\n",
        "# driver = setup_driver()\n",
        "\n",
        "# base_url = \"https://housing.com/in/buy/pune/baner?page={}\"\n",
        "# all_urls = [base_url.format(page_num) for page_num in range(1, 3)]\n",
        "\n",
        "# for url in all_urls:\n",
        "#     driver.get(url)\n",
        "#     wait = WebDriverWait(driver, 10)\n",
        "\n",
        "#     # Find elements with the specified class name\n",
        "#     # elements = wait.until(EC.presence_of_all_elements_located((By.CLASS_NAME, \"_9s1txw\")))\n",
        "#     elements=driver.find_elements(By.CLASS_NAME, \"css-1m1bruh\")\n",
        "#     print(len(elements))\n",
        "#     print(f\"Number of elements found: {len(elements)}\")\n",
        "\n",
        "#     src_attribute = []\n",
        "#     for element in elements:\n",
        "#       # time.sleep(2)\n",
        "#       anchor_tags = element.find_elements(By.TAG_NAME, \"a\")\n",
        "#       time.sleep(5)\n",
        "#       for tag in anchor_tags:\n",
        "#         # time.sleep(2)\n",
        "#         data_q_attribute = tag.get_attribute(\"data-q\")\n",
        "#         time.sleep(2)\n",
        "#         if data_q_attribute == \"title\":\n",
        "#             src = tag.get_attribute(\"href\")\n",
        "#             if src and src not in src_attribute:\n",
        "#                 src_attribute.append(src)\n",
        "#                 print(f\"Number of unique URLs: {len(src_attribute)}\")\n",
        "\n",
        "#     print(f\"Number of unique URLs: {len(src_attribute)}\")\n",
        "\n",
        "#     for data1 in src_attribute:\n",
        "#         driver.get(data1)\n",
        "#         driver.maximize_window()\n",
        "\n",
        "#         # Wait for gallery divs to load\n",
        "#         gallery_divs = wait.until(EC.presence_of_all_elements_located((By.XPATH, \"//div[@data-q='gallery']\")))\n",
        "#         print(f\"Number of gallery divs: {len(gallery_divs)}\")\n",
        "\n",
        "#         src_attributes = []\n",
        "#         for div in gallery_divs:\n",
        "#             try:\n",
        "#                 img_tags = div.find_elements(By.XPATH, './/img[@fetchpriority=\"auto\"]')\n",
        "#                 for img_tag in img_tags:\n",
        "#                     src = img_tag.get_attribute(\"src\")\n",
        "#                     if src and src not in src_attributes:\n",
        "#                         src_attributes.append(src)\n",
        "#             except Exception as e:\n",
        "#                 print(f\"Error processing div or img tag: {e}\")\n",
        "\n",
        "#         print(f\"Number of unique image sources: {len(src_attributes)}\")\n",
        "#         print(f\"List of images: {src_attributes}\")\n",
        "\n",
        "#         # Extract building name\n",
        "#         h1_tags = driver.find_elements(By.XPATH, \"//h1[@class='css-1hidc9c']\")\n",
        "#         for h1_tag in h1_tags:\n",
        "#             try:\n",
        "#                 print(f\"Building name: {h1_tag.text}\")\n",
        "#             except Exception as e:\n",
        "#                 print(f\"Error extracting text from h1 tag: {e}\")\n",
        "\n",
        "#         # Extract address\n",
        "#         try:\n",
        "#             address_div = driver.find_element(By.XPATH, \"//div[@data-q='address']\")\n",
        "#             print(f\"Address: {address_div.text}\")\n",
        "#         except Exception as e:\n",
        "#             print(f\"Error extracting address: {e}\")\n",
        "\n",
        "#         # Extract basic price\n",
        "#         spans = driver.find_elements(By.CSS_SELECTOR, \"span.css-19rl1ms\")\n",
        "#         for span in spans:\n",
        "#             try:\n",
        "#                 print(f\"Basic price: {span.text}\")\n",
        "#             except Exception as e:\n",
        "#                 print(f\"Error extracting basic price: {e}\")\n",
        "\n",
        "#         # Extract price per sqft\n",
        "#         sqft_spans = driver.find_elements(By.CSS_SELECTOR, \"span.css-124qey8\")\n",
        "#         for span in sqft_spans:\n",
        "#             try:\n",
        "#                 print(f\"Price per sqft: {span.text}\")\n",
        "#             except Exception as e:\n",
        "#                 print(f\"Error extracting price per sqft: {e}\")\n",
        "\n",
        "#         # Extract other information\n",
        "#         class_names = [\n",
        "#             \"css-13dph6\", \"T_804fd309\", \"css-1cv4ydj\",\n",
        "#             \"css-1ruxp1v\", \"css-a9s06j\", \"_vydw1wug\", \"_lo1tcg\"\n",
        "#         ]\n",
        "#         for class_name in class_names:\n",
        "#             try:\n",
        "#                 target_div = wait.until(EC.presence_of_element_located((By.CLASS_NAME, class_name)))\n",
        "#                 print(f\"Content for {class_name}: {target_div.text}\")\n",
        "#             except Exception as e:\n",
        "#                 print(f\"Error extracting content for {class_name}: {e}\")\n",
        "\n",
        "# driver.quit()\n",
        "\n",
        "\n",
        "\n",
        "from selenium import webdriver\n",
        "from selenium.webdriver.chrome.options import Options\n",
        "from selenium.webdriver.common.by import By\n",
        "from selenium.webdriver.support.ui import WebDriverWait\n",
        "from selenium.webdriver.support import expected_conditions as EC\n",
        "from pymongo import MongoClient\n",
        "import time\n",
        "\n",
        "# MongoDB connection setup\n",
        "def setup_mongodb():\n",
        "    client = MongoClient(\"\")\n",
        "    db = client['']  # Replace with your database name\n",
        "    collection = db['']  # Replace with your collection name\n",
        "    return collection\n",
        "\n",
        "# Selenium WebDriver setup\n",
        "def setup_driver():\n",
        "    chrome_options = Options()\n",
        "    chrome_options.add_argument('--headless')\n",
        "    chrome_options.add_argument('--no-sandbox')\n",
        "    chrome_options.add_argument('--disable-dev-shm-usage')\n",
        "    return webdriver.Chrome(options=chrome_options)\n",
        "\n",
        "# Setup MongoDB and Selenium\n",
        "collection = setup_mongodb()\n",
        "driver = setup_driver()\n",
        "wait = WebDriverWait(driver, 10)\n",
        "\n",
        "base_url = \"https://housing.com/in/buy/pune/baner?page={}\"\n",
        "all_urls = [base_url.format(page_num) for page_num in range(2, 71)]\n",
        "\n",
        "for url in all_urls:\n",
        "    driver.get(url)\n",
        "    elements = driver.find_elements(By.CLASS_NAME, \"css-1m1bruh\")\n",
        "    print(f\"Number of elements found: {len(elements)}\")\n",
        "\n",
        "    src_attribute = []\n",
        "    for element in elements:\n",
        "        anchor_tags = element.find_elements(By.TAG_NAME, \"a\")\n",
        "        for tag in anchor_tags:\n",
        "            data_q_attribute = tag.get_attribute(\"data-q\")\n",
        "            if data_q_attribute == \"title\":\n",
        "                src = tag.get_attribute(\"href\")\n",
        "                if src and src not in src_attribute:\n",
        "                    src_attribute.append(src)\n",
        "\n",
        "    print(f\"Number of unique property URLs: {len(src_attribute)}\")\n",
        "\n",
        "    for data1 in src_attribute:\n",
        "        driver.get(data1)\n",
        "        driver.maximize_window()\n",
        "\n",
        "        property_data = {}\n",
        "\n",
        "        try:\n",
        "            # Building name\n",
        "            h1_tags = driver.find_elements(By.XPATH, \"//h1[@class='css-1hidc9c']\")\n",
        "            property_data['building_name'] = h1_tags[0].text if h1_tags else None\n",
        "\n",
        "            # Address\n",
        "            address_div = driver.find_element(By.XPATH, \"//div[@data-q='address']\")\n",
        "            property_data['address'] = address_div.text if address_div else None\n",
        "\n",
        "            # Basic price\n",
        "            spans = driver.find_elements(By.CSS_SELECTOR, \"span.css-19rl1ms\")\n",
        "            property_data['basic_price'] = spans[0].text if spans else None\n",
        "\n",
        "            # Price per sqft\n",
        "            sqft_spans = driver.find_elements(By.CSS_SELECTOR, \"span.css-124qey8\")\n",
        "            property_data['price_per_sqft'] = sqft_spans[0].text if sqft_spans else None\n",
        "\n",
        "            # Gallery images\n",
        "            gallery_divs = wait.until(EC.presence_of_all_elements_located((By.XPATH, \"//div[@data-q='gallery']\")))\n",
        "            image_urls = []\n",
        "            for div in gallery_divs:\n",
        "                img_tags = div.find_elements(By.XPATH, './/img[@fetchpriority=\"auto\"]')\n",
        "                for img_tag in img_tags:\n",
        "                    src = img_tag.get_attribute(\"src\")\n",
        "                    if src and src not in image_urls:\n",
        "                        image_urls.append(src)\n",
        "            property_data['images'] = image_urls\n",
        "\n",
        "            # # Extract other information (e.g., area, configurations, etc.)\n",
        "            # class_names = [\n",
        "            #     \"css-13dph6\", \"T_804fd309\", \"css-1cv4ydj\",\n",
        "            #     \"css-1ruxp1v\", \"css-a9s06j\", \"_vydw1wug\", \"_lo1tcg\"\n",
        "            # ]\n",
        "            # additional_info = {}\n",
        "            # for class_name in class_names:\n",
        "            #     try:\n",
        "            #         target_div = wait.until(EC.presence_of_element_located((By.CLASS_NAME, class_name)))\n",
        "            #         additional_info[class_name] = target_div.text\n",
        "            #     except Exception as e:\n",
        "            #         additional_info[class_name] = None\n",
        "\n",
        "            # Insert data into MongoDB\n",
        "            # collection.insert_one(property_data)\n",
        "            # print(f\"Inserted property data: {property_data}\")\n",
        "            class_names_mapping = {\n",
        "                    \"css-13dph6\": \"project info\",\n",
        "                    \"T_804fd309\": \"more about this project\",\n",
        "                    # \"css-1cv4ydj\": \"price and floor plan\",\n",
        "                    '_18qtexct':\"overview\",\n",
        "                    \"css-1ruxp1v\": \"Price & Floor Plan\",\n",
        "                    \"css-a9s06j\": \"Project Amenities\",\n",
        "                    \"_vydw1wug\": \"Project Specifications\",\n",
        "                    \"_lo1tcg\": \"more about this project\",\n",
        "                }\n",
        "\n",
        "            additional_info = {}\n",
        "            for class_name, descriptive_key in class_names_mapping.items():\n",
        "              try:\n",
        "                  target_div = wait.until(EC.presence_of_element_located((By.CLASS_NAME, class_name)))\n",
        "                  additional_info[descriptive_key] = target_div.text\n",
        "              except Exception as e:\n",
        "                  additional_info[descriptive_key] = None\n",
        "            property_data['additional_info'] = additional_info\n",
        "            collection.insert_one(property_data)\n",
        "            print(f\"Inserted property data: {property_data}\")\n",
        "\n",
        "        except Exception as e:\n",
        "            print(f\"Error processing property data: {e}\")\n",
        "\n",
        "    # driver.quit()\n"
      ]
    },
    {
      "cell_type": "code",
      "execution_count": null,
      "metadata": {
        "id": "ChMeZYNsntLx"
      },
      "outputs": [],
      "source": []
    },
    {
      "cell_type": "code",
      "execution_count": null,
      "metadata": {
        "id": "3UNxq-kRsFdT"
      },
      "outputs": [],
      "source": []
    }
  ],
  "metadata": {
    "colab": {
      "provenance": []
    },
    "kernelspec": {
      "display_name": "Python 3",
      "name": "python3"
    },
    "language_info": {
      "name": "python"
    }
  },
  "nbformat": 4,
  "nbformat_minor": 0
}
